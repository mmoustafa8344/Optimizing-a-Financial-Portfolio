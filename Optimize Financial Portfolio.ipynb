{
 "cells": [
  {
   "cell_type": "markdown",
   "metadata": {},
   "source": [
    "## Optimize A Financial Investment Portfolio With Efficient Frontier Method\n",
    "\n",
    "### Mohamed Moustafa\n",
    "\n",
    "***"
   ]
  },
  {
   "cell_type": "markdown",
   "metadata": {},
   "source": [
    "#### **Background:** \n",
    "\n",
    "This JupyterLab notebook is a very powerful tool that can both generate text for the reader to view as well as run the Python 3 code needed for this report. I will use the JupyterLab tool to create a full report on how to optimizie a financial portfolio.\n",
    "\n",
    "First, it is important to understand that a portfolio is no more than just a collection of stock investments held by an investor. *Optimizing a financial portfolio requires selecting the best possible portfolio out of a set of all portfolios being considered according to an **objective**.* \n",
    "\n",
    "According to modern portfolio theory, one possible way to optimize a portfolio is to aim for an ***efficient frontier***. The efficient frontier is a investment portfolio that lies on the most efficient(ideal) coordinates of the risk-return graph(spectrum). There is a formal definition that is used by many experts in this field, \"Efficient frontier is the set of portfolios which satisfy the condition that **no other portfolio exists with a higher expected return but with the same standard deviation of return**. \n",
    "\n",
    "Now we know the aim is to achieve one of the efficient frontier portfolios. However, we can even go one step further than the overall portfolio. We can identify the best possible proportion of the stocks to use in any given portfolio. This is possible by using the ***sharpe ratio***. \n",
    "\n",
    "The sharpe ratio was developed by William Sharpe in 1966. The sharpe ratio describes how much excess return of money one recieves for the extra volatile time he/she holds onto the investment. Basically, it measures how much extra capital money one can recieve by waiting and holding onto a risky stock investment. The sharpe ratio can be calculated by taking the difference between the returns of the investment and the risk-free return, divided by the standard deviation of the investment.\n",
    "\n",
    "Usually experts define four categories for the result of the sharpe ratio:\n",
    "\n",
    "|   Sharpe Ratio   |   Category   |\n",
    "|:--------------------:|:----------------:|\n",
    "|**ratio < 1.0**        |`sub-optimal`    |\n",
    "|**ratio > 1.0** |`good`|\n",
    "|**ratio > 2.0**|`very good`|\n",
    "|**ratio > 3.0**|`excellent`|\n",
    "\n",
    "After considering the efficient frontier theory, as well as the sharpe ratio, it is time to start the code to optimize a sample financial portfolio.\n",
    "\n",
    "***"
   ]
  },
  {
   "cell_type": "markdown",
   "metadata": {},
   "source": [
    "# Part 1: Initial Code"
   ]
  },
  {
   "cell_type": "code",
   "execution_count": 1,
   "metadata": {},
   "outputs": [],
   "source": [
    "# The following program is meant to optimize a financial portfolio based off the efficient frontier theory, \n",
    "# and furthermore, the sharpe ratio for stocks proportions.\n",
    "# Mohamed Moustafa, DTSC 615 Topics in Optimization\n",
    "\n",
    "# Import the proper libraries needed\n",
    "\n",
    "from pandas_datareader import data as web\n",
    "import numpy as np\n",
    "import pandas as pd\n",
    "from datetime import datetime\n",
    "import matplotlib.pyplot as plt\n",
    "plt.style.use('fivethirtyeight')\n"
   ]
  },
  {
   "cell_type": "code",
   "execution_count": 2,
   "metadata": {},
   "outputs": [
    {
     "data": {
      "text/plain": [
       "array([0.2, 0.2, 0.2, 0.2, 0.2])"
      ]
     },
     "execution_count": 2,
     "metadata": {},
     "output_type": "execute_result"
    }
   ],
   "source": [
    "# Create the sample portfolio being used as an example\n",
    "# Chosen stocks will be most popular and best performing \n",
    "# American technology companies, FAANG\n",
    "# Facebook, Apple, Amazon, Netflix, and Google tickers will be used\n",
    "# Each stock will have equal weight in the portfolio (20%)\n",
    "\n",
    "portfolio = [\"FB\", \"AMZN\", \"AAPL\", \"NFLX\", \"GOOG\"]\n",
    "\n",
    "weights = np.array([0.2, 0.2, 0.2, 0.2, 0.2])\n",
    "weights\n",
    "\n"
   ]
  },
  {
   "cell_type": "code",
   "execution_count": 3,
   "metadata": {},
   "outputs": [],
   "source": [
    "# Let us say that the portfolio starting date was around January 1st 2015\n",
    "# The end date is today, currently.\n",
    "\n",
    "portfolioStartDate = '2015-01-01'\n",
    "today = datetime.today().strftime('%Y-%m-%d')"
   ]
  },
  {
   "cell_type": "code",
   "execution_count": 4,
   "metadata": {},
   "outputs": [],
   "source": [
    "# Let us create a dataframe to store the adjusted close price of the stocks for each day,\n",
    "# basically, how much the stock was worth in the portfolio after each closed day.\n",
    "\n",
    "df = pd.DataFrame()\n",
    "\n",
    "for stock in portfolio:\n",
    "    df[stock] = web.DataReader(stock,data_source='yahoo',start=portfolioStartDate , end=today)['Adj Close']"
   ]
  },
  {
   "cell_type": "code",
   "execution_count": 5,
   "metadata": {},
   "outputs": [
    {
     "data": {
      "text/html": [
       "<div>\n",
       "<style scoped>\n",
       "    .dataframe tbody tr th:only-of-type {\n",
       "        vertical-align: middle;\n",
       "    }\n",
       "\n",
       "    .dataframe tbody tr th {\n",
       "        vertical-align: top;\n",
       "    }\n",
       "\n",
       "    .dataframe thead th {\n",
       "        text-align: right;\n",
       "    }\n",
       "</style>\n",
       "<table border=\"1\" class=\"dataframe\">\n",
       "  <thead>\n",
       "    <tr style=\"text-align: right;\">\n",
       "      <th></th>\n",
       "      <th>FB</th>\n",
       "      <th>AMZN</th>\n",
       "      <th>AAPL</th>\n",
       "      <th>NFLX</th>\n",
       "      <th>GOOG</th>\n",
       "    </tr>\n",
       "    <tr>\n",
       "      <th>Date</th>\n",
       "      <th></th>\n",
       "      <th></th>\n",
       "      <th></th>\n",
       "      <th></th>\n",
       "      <th></th>\n",
       "    </tr>\n",
       "  </thead>\n",
       "  <tbody>\n",
       "    <tr>\n",
       "      <th>2015-01-02</th>\n",
       "      <td>78.449997</td>\n",
       "      <td>308.519989</td>\n",
       "      <td>99.945885</td>\n",
       "      <td>49.848572</td>\n",
       "      <td>523.373108</td>\n",
       "    </tr>\n",
       "    <tr>\n",
       "      <th>2015-01-05</th>\n",
       "      <td>77.190002</td>\n",
       "      <td>302.190002</td>\n",
       "      <td>97.130241</td>\n",
       "      <td>47.311428</td>\n",
       "      <td>512.463013</td>\n",
       "    </tr>\n",
       "    <tr>\n",
       "      <th>2015-01-06</th>\n",
       "      <td>76.150002</td>\n",
       "      <td>295.290009</td>\n",
       "      <td>97.139420</td>\n",
       "      <td>46.501427</td>\n",
       "      <td>500.585632</td>\n",
       "    </tr>\n",
       "    <tr>\n",
       "      <th>2015-01-07</th>\n",
       "      <td>76.150002</td>\n",
       "      <td>298.420013</td>\n",
       "      <td>98.501518</td>\n",
       "      <td>46.742859</td>\n",
       "      <td>499.727997</td>\n",
       "    </tr>\n",
       "    <tr>\n",
       "      <th>2015-01-08</th>\n",
       "      <td>78.180000</td>\n",
       "      <td>300.459991</td>\n",
       "      <td>102.286186</td>\n",
       "      <td>47.779999</td>\n",
       "      <td>501.303680</td>\n",
       "    </tr>\n",
       "    <tr>\n",
       "      <th>...</th>\n",
       "      <td>...</td>\n",
       "      <td>...</td>\n",
       "      <td>...</td>\n",
       "      <td>...</td>\n",
       "      <td>...</td>\n",
       "    </tr>\n",
       "    <tr>\n",
       "      <th>2020-05-18</th>\n",
       "      <td>213.190002</td>\n",
       "      <td>2426.260010</td>\n",
       "      <td>314.959991</td>\n",
       "      <td>452.579987</td>\n",
       "      <td>1383.939941</td>\n",
       "    </tr>\n",
       "    <tr>\n",
       "      <th>2020-05-19</th>\n",
       "      <td>216.880005</td>\n",
       "      <td>2449.330078</td>\n",
       "      <td>313.140015</td>\n",
       "      <td>451.040009</td>\n",
       "      <td>1373.484985</td>\n",
       "    </tr>\n",
       "    <tr>\n",
       "      <th>2020-05-20</th>\n",
       "      <td>229.970001</td>\n",
       "      <td>2497.939941</td>\n",
       "      <td>319.230011</td>\n",
       "      <td>447.670013</td>\n",
       "      <td>1406.719971</td>\n",
       "    </tr>\n",
       "    <tr>\n",
       "      <th>2020-05-21</th>\n",
       "      <td>231.389999</td>\n",
       "      <td>2446.739990</td>\n",
       "      <td>316.850006</td>\n",
       "      <td>436.250000</td>\n",
       "      <td>1402.800049</td>\n",
       "    </tr>\n",
       "    <tr>\n",
       "      <th>2020-05-22</th>\n",
       "      <td>234.910004</td>\n",
       "      <td>2436.879883</td>\n",
       "      <td>318.890015</td>\n",
       "      <td>429.320007</td>\n",
       "      <td>1410.420044</td>\n",
       "    </tr>\n",
       "  </tbody>\n",
       "</table>\n",
       "<p>1357 rows × 5 columns</p>\n",
       "</div>"
      ],
      "text/plain": [
       "                    FB         AMZN        AAPL        NFLX         GOOG\n",
       "Date                                                                    \n",
       "2015-01-02   78.449997   308.519989   99.945885   49.848572   523.373108\n",
       "2015-01-05   77.190002   302.190002   97.130241   47.311428   512.463013\n",
       "2015-01-06   76.150002   295.290009   97.139420   46.501427   500.585632\n",
       "2015-01-07   76.150002   298.420013   98.501518   46.742859   499.727997\n",
       "2015-01-08   78.180000   300.459991  102.286186   47.779999   501.303680\n",
       "...                ...          ...         ...         ...          ...\n",
       "2020-05-18  213.190002  2426.260010  314.959991  452.579987  1383.939941\n",
       "2020-05-19  216.880005  2449.330078  313.140015  451.040009  1373.484985\n",
       "2020-05-20  229.970001  2497.939941  319.230011  447.670013  1406.719971\n",
       "2020-05-21  231.389999  2446.739990  316.850006  436.250000  1402.800049\n",
       "2020-05-22  234.910004  2436.879883  318.890015  429.320007  1410.420044\n",
       "\n",
       "[1357 rows x 5 columns]"
      ]
     },
     "execution_count": 5,
     "metadata": {},
     "output_type": "execute_result"
    }
   ],
   "source": [
    "# Display the created dataframe\n",
    "\n",
    "df"
   ]
  },
  {
   "cell_type": "code",
   "execution_count": 6,
   "metadata": {},
   "outputs": [
    {
     "name": "stderr",
     "output_type": "stream",
     "text": [
      "/Users/mohamedmoustafa/anaconda3/lib/python3.7/site-packages/pandas/plotting/_matplotlib/converter.py:103: FutureWarning: Using an implicitly registered datetime converter for a matplotlib plotting method. The converter was registered by pandas on import. Future versions of pandas will require you to explicitly register matplotlib converters.\n",
      "\n",
      "To register the converters:\n",
      "\t>>> from pandas.plotting import register_matplotlib_converters\n",
      "\t>>> register_matplotlib_converters()\n",
      "  warnings.warn(msg, FutureWarning)\n"
     ]
    },
    {
     "data": {
      "image/png": "[encoded data removed]",
      "text/plain": [
       "<Figure size 900x360 with 1 Axes>"
      ]
     },
     "metadata": {
      "needs_background": "light"
     },
     "output_type": "display_data"
    }
   ],
   "source": [
    "# Now let us display this dataframe visually so it will be easier to track stock progressions.\n",
    "\n",
    "title = 'Portfolio Adj. Close Price History'\n",
    "portfolio_stocks = df\n",
    "\n",
    "plt.figure(figsize=(12.5,5.0)) #width = 12.5, height = 5.0\n",
    "\n",
    "for p in portfolio_stocks.columns.values:\n",
    "  plt.plot( portfolio_stocks[p],  label=p)\n",
    "\n",
    "plt.title(title)\n",
    "plt.xlabel('Year',fontsize=18)\n",
    "plt.ylabel('Price USD ($)',fontsize=18)\n",
    "plt.legend(portfolio_stocks.columns.values, loc='upper left')\n",
    "plt.show()"
   ]
  },
  {
   "cell_type": "code",
   "execution_count": 7,
   "metadata": {},
   "outputs": [
    {
     "data": {
      "text/html": [
       "<div>\n",
       "<style scoped>\n",
       "    .dataframe tbody tr th:only-of-type {\n",
       "        vertical-align: middle;\n",
       "    }\n",
       "\n",
       "    .dataframe tbody tr th {\n",
       "        vertical-align: top;\n",
       "    }\n",
       "\n",
       "    .dataframe thead th {\n",
       "        text-align: right;\n",
       "    }\n",
       "</style>\n",
       "<table border=\"1\" class=\"dataframe\">\n",
       "  <thead>\n",
       "    <tr style=\"text-align: right;\">\n",
       "      <th></th>\n",
       "      <th>FB</th>\n",
       "      <th>AMZN</th>\n",
       "      <th>AAPL</th>\n",
       "      <th>NFLX</th>\n",
       "      <th>GOOG</th>\n",
       "    </tr>\n",
       "    <tr>\n",
       "      <th>Date</th>\n",
       "      <th></th>\n",
       "      <th></th>\n",
       "      <th></th>\n",
       "      <th></th>\n",
       "      <th></th>\n",
       "    </tr>\n",
       "  </thead>\n",
       "  <tbody>\n",
       "    <tr>\n",
       "      <th>2015-01-02</th>\n",
       "      <td>NaN</td>\n",
       "      <td>NaN</td>\n",
       "      <td>NaN</td>\n",
       "      <td>NaN</td>\n",
       "      <td>NaN</td>\n",
       "    </tr>\n",
       "    <tr>\n",
       "      <th>2015-01-05</th>\n",
       "      <td>-0.016061</td>\n",
       "      <td>-0.020517</td>\n",
       "      <td>-0.028172</td>\n",
       "      <td>-0.050897</td>\n",
       "      <td>-0.020846</td>\n",
       "    </tr>\n",
       "    <tr>\n",
       "      <th>2015-01-06</th>\n",
       "      <td>-0.013473</td>\n",
       "      <td>-0.022833</td>\n",
       "      <td>0.000094</td>\n",
       "      <td>-0.017121</td>\n",
       "      <td>-0.023177</td>\n",
       "    </tr>\n",
       "    <tr>\n",
       "      <th>2015-01-07</th>\n",
       "      <td>0.000000</td>\n",
       "      <td>0.010600</td>\n",
       "      <td>0.014022</td>\n",
       "      <td>0.005192</td>\n",
       "      <td>-0.001713</td>\n",
       "    </tr>\n",
       "    <tr>\n",
       "      <th>2015-01-08</th>\n",
       "      <td>0.026658</td>\n",
       "      <td>0.006836</td>\n",
       "      <td>0.038422</td>\n",
       "      <td>0.022188</td>\n",
       "      <td>0.003153</td>\n",
       "    </tr>\n",
       "    <tr>\n",
       "      <th>...</th>\n",
       "      <td>...</td>\n",
       "      <td>...</td>\n",
       "      <td>...</td>\n",
       "      <td>...</td>\n",
       "      <td>...</td>\n",
       "    </tr>\n",
       "    <tr>\n",
       "      <th>2020-05-18</th>\n",
       "      <td>0.010954</td>\n",
       "      <td>0.006839</td>\n",
       "      <td>0.023561</td>\n",
       "      <td>-0.003545</td>\n",
       "      <td>0.007828</td>\n",
       "    </tr>\n",
       "    <tr>\n",
       "      <th>2020-05-19</th>\n",
       "      <td>0.017309</td>\n",
       "      <td>0.009508</td>\n",
       "      <td>-0.005778</td>\n",
       "      <td>-0.003403</td>\n",
       "      <td>-0.007554</td>\n",
       "    </tr>\n",
       "    <tr>\n",
       "      <th>2020-05-20</th>\n",
       "      <td>0.060356</td>\n",
       "      <td>0.019846</td>\n",
       "      <td>0.019448</td>\n",
       "      <td>-0.007472</td>\n",
       "      <td>0.024198</td>\n",
       "    </tr>\n",
       "    <tr>\n",
       "      <th>2020-05-21</th>\n",
       "      <td>0.006175</td>\n",
       "      <td>-0.020497</td>\n",
       "      <td>-0.007455</td>\n",
       "      <td>-0.025510</td>\n",
       "      <td>-0.002787</td>\n",
       "    </tr>\n",
       "    <tr>\n",
       "      <th>2020-05-22</th>\n",
       "      <td>0.015212</td>\n",
       "      <td>-0.004030</td>\n",
       "      <td>0.006438</td>\n",
       "      <td>-0.015885</td>\n",
       "      <td>0.005432</td>\n",
       "    </tr>\n",
       "  </tbody>\n",
       "</table>\n",
       "<p>1357 rows × 5 columns</p>\n",
       "</div>"
      ],
      "text/plain": [
       "                  FB      AMZN      AAPL      NFLX      GOOG\n",
       "Date                                                        \n",
       "2015-01-02       NaN       NaN       NaN       NaN       NaN\n",
       "2015-01-05 -0.016061 -0.020517 -0.028172 -0.050897 -0.020846\n",
       "2015-01-06 -0.013473 -0.022833  0.000094 -0.017121 -0.023177\n",
       "2015-01-07  0.000000  0.010600  0.014022  0.005192 -0.001713\n",
       "2015-01-08  0.026658  0.006836  0.038422  0.022188  0.003153\n",
       "...              ...       ...       ...       ...       ...\n",
       "2020-05-18  0.010954  0.006839  0.023561 -0.003545  0.007828\n",
       "2020-05-19  0.017309  0.009508 -0.005778 -0.003403 -0.007554\n",
       "2020-05-20  0.060356  0.019846  0.019448 -0.007472  0.024198\n",
       "2020-05-21  0.006175 -0.020497 -0.007455 -0.025510 -0.002787\n",
       "2020-05-22  0.015212 -0.004030  0.006438 -0.015885  0.005432\n",
       "\n",
       "[1357 rows x 5 columns]"
      ]
     },
     "execution_count": 7,
     "metadata": {},
     "output_type": "execute_result"
    }
   ],
   "source": [
    "# Now that we can visually see how our stock investments have been doing over the past 5 years,\n",
    "# let us analyze the daily percent change of returns over that period.\n",
    "\n",
    "returns = df.pct_change()\n",
    "returns"
   ]
  },
  {
   "cell_type": "markdown",
   "metadata": {},
   "source": [
    "Now let us create a **co-variance matrix**, which is used in order to compare data samples from different populations and is used to determine how much two random variables vary. In our case, it will measure how much one stock correlates with another in our portfolio. The diagonal values of this matrix are the variances, and the other entries are co-variances. If you take the square root of variance you get the volatility also known as the standard deviation.\n",
    "\n",
    "We need the annualized co-variance matrix so multiply the co-variance matrix by the number of standard stock trading days in 1 year which is 252."
   ]
  },
  {
   "cell_type": "code",
   "execution_count": 8,
   "metadata": {},
   "outputs": [
    {
     "data": {
      "text/html": [
       "<div>\n",
       "<style scoped>\n",
       "    .dataframe tbody tr th:only-of-type {\n",
       "        vertical-align: middle;\n",
       "    }\n",
       "\n",
       "    .dataframe tbody tr th {\n",
       "        vertical-align: top;\n",
       "    }\n",
       "\n",
       "    .dataframe thead th {\n",
       "        text-align: right;\n",
       "    }\n",
       "</style>\n",
       "<table border=\"1\" class=\"dataframe\">\n",
       "  <thead>\n",
       "    <tr style=\"text-align: right;\">\n",
       "      <th></th>\n",
       "      <th>FB</th>\n",
       "      <th>AMZN</th>\n",
       "      <th>AAPL</th>\n",
       "      <th>NFLX</th>\n",
       "      <th>GOOG</th>\n",
       "    </tr>\n",
       "  </thead>\n",
       "  <tbody>\n",
       "    <tr>\n",
       "      <th>FB</th>\n",
       "      <td>0.095922</td>\n",
       "      <td>0.055263</td>\n",
       "      <td>0.049593</td>\n",
       "      <td>0.056498</td>\n",
       "      <td>0.055593</td>\n",
       "    </tr>\n",
       "    <tr>\n",
       "      <th>AMZN</th>\n",
       "      <td>0.055263</td>\n",
       "      <td>0.093133</td>\n",
       "      <td>0.046082</td>\n",
       "      <td>0.066680</td>\n",
       "      <td>0.053276</td>\n",
       "    </tr>\n",
       "    <tr>\n",
       "      <th>AAPL</th>\n",
       "      <td>0.049593</td>\n",
       "      <td>0.046082</td>\n",
       "      <td>0.081237</td>\n",
       "      <td>0.049077</td>\n",
       "      <td>0.047630</td>\n",
       "    </tr>\n",
       "    <tr>\n",
       "      <th>NFLX</th>\n",
       "      <td>0.056498</td>\n",
       "      <td>0.066680</td>\n",
       "      <td>0.049077</td>\n",
       "      <td>0.180364</td>\n",
       "      <td>0.055383</td>\n",
       "    </tr>\n",
       "    <tr>\n",
       "      <th>GOOG</th>\n",
       "      <td>0.055593</td>\n",
       "      <td>0.053276</td>\n",
       "      <td>0.047630</td>\n",
       "      <td>0.055383</td>\n",
       "      <td>0.071770</td>\n",
       "    </tr>\n",
       "  </tbody>\n",
       "</table>\n",
       "</div>"
      ],
      "text/plain": [
       "            FB      AMZN      AAPL      NFLX      GOOG\n",
       "FB    0.095922  0.055263  0.049593  0.056498  0.055593\n",
       "AMZN  0.055263  0.093133  0.046082  0.066680  0.053276\n",
       "AAPL  0.049593  0.046082  0.081237  0.049077  0.047630\n",
       "NFLX  0.056498  0.066680  0.049077  0.180364  0.055383\n",
       "GOOG  0.055593  0.053276  0.047630  0.055383  0.071770"
      ]
     },
     "execution_count": 8,
     "metadata": {},
     "output_type": "execute_result"
    }
   ],
   "source": [
    "cov_matrix_annual = returns.cov() * 252\n",
    "cov_matrix_annual"
   ]
  },
  {
   "cell_type": "code",
   "execution_count": 9,
   "metadata": {},
   "outputs": [
    {
     "name": "stdout",
     "output_type": "stream",
     "text": [
      "portfolio variance is: 0.06370306545342781\n",
      "portfolio volatility is: 0.252394662093769\n",
      "portfolio annual return is: 0.32970441853361965\n"
     ]
    }
   ],
   "source": [
    "# To see how much our portfolio correlates with itself, let us calculate the variance.\n",
    "\n",
    "port_variance = np.dot(weights.T, np.dot(cov_matrix_annual, weights))\n",
    "print ('portfolio variance is: ' + str(port_variance))\n",
    "\n",
    "# Calculate portfolio volatility (risk) - square root of variance\n",
    "\n",
    "port_volatility = np.sqrt(port_variance)\n",
    "print ('portfolio volatility is: ' + str(port_volatility))\n",
    "\n",
    "# Annual Portfolio Return calculated\n",
    "\n",
    "portfolioSimpleAnnualReturn = np.sum(returns.mean()*weights) * 252\n",
    "print ('portfolio annual return is: ' + str(portfolioSimpleAnnualReturn))"
   ]
  },
  {
   "cell_type": "code",
   "execution_count": 10,
   "metadata": {},
   "outputs": [
    {
     "name": "stdout",
     "output_type": "stream",
     "text": [
      "Expected annual return : 33.0%\n",
      "Annual volatility/standard deviation/risk : 25.0%\n",
      "Annual variance : 6.0%\n"
     ]
    }
   ],
   "source": [
    "# Show the final returns and concluded results\n",
    "\n",
    "percent_var = str(round(port_variance, 2) * 100) + '%'\n",
    "percent_vols = str(round(port_volatility, 2) * 100) + '%'\n",
    "percent_ret = str(round(portfolioSimpleAnnualReturn, 2)*100)+'%'\n",
    "print(\"Expected annual return : \"+ percent_ret)\n",
    "print('Annual volatility/standard deviation/risk : '+percent_vols)\n",
    "print('Annual variance : '+percent_var)"
   ]
  },
  {
   "cell_type": "markdown",
   "metadata": {},
   "source": [
    "Now we can see the final results which indicate that with the sample portfolio used in this scenario, there is an expected annual return of 33%, and the risk factor is 25%. The percent that the stocks affect each other in my portfolio is the variance or 6%."
   ]
  },
  {
   "cell_type": "markdown",
   "metadata": {},
   "source": [
    "# Part 2: Optimizing Results and Code\n",
    "\n",
    "I would like to optimize this portfolio, meaning I want to optimize for the maximum annual return with the least amount of volatility. In order to do this I have utilized a package created by Robert Martin, called pyportfoliopt"
   ]
  },
  {
   "cell_type": "code",
   "execution_count": 11,
   "metadata": {},
   "outputs": [],
   "source": [
    "# Import necessary libraries from pyportfoliopt package\n",
    "\n",
    "from pypfopt.efficient_frontier import EfficientFrontier\n",
    "from pypfopt import risk_models\n",
    "from pypfopt import expected_returns"
   ]
  },
  {
   "cell_type": "code",
   "execution_count": 12,
   "metadata": {},
   "outputs": [],
   "source": [
    "# Calculate the expected returns and the annual sample covariance matrix of daily stock returns.\n",
    "\n",
    "mu = expected_returns.mean_historical_return(df) # returns.mean() * 252\n",
    "S = risk_models.sample_cov(df) # Get the sample covariance matrix"
   ]
  },
  {
   "cell_type": "code",
   "execution_count": 13,
   "metadata": {},
   "outputs": [
    {
     "name": "stdout",
     "output_type": "stream",
     "text": [
      "{'FB': 0.0, 'AMZN': 0.69044, 'AAPL': 0.04352, 'NFLX': 0.26605, 'GOOG': 0.0}\n",
      "Expected annual return: 43.9%\n",
      "Annual volatility: 29.3%\n",
      "Sharpe Ratio: 1.43\n"
     ]
    },
    {
     "data": {
      "text/plain": [
       "(0.4385741990313394, 0.2927777796177704, 1.4296651869475876)"
      ]
     },
     "execution_count": 13,
     "metadata": {},
     "output_type": "execute_result"
    }
   ],
   "source": [
    "# Now let us optimize for the maximal sharpe ratio which will tell us\n",
    "# what porportion of our portfolio should each stock be to meet objective\n",
    "\n",
    "ef = EfficientFrontier(mu, S)\n",
    "weights = ef.max_sharpe() #Maximize the Sharpe ratio, and get the raw weights\n",
    "cleaned_weights = ef.clean_weights() \n",
    "print(cleaned_weights)\n",
    "ef.portfolio_performance(verbose=True)\n"
   ]
  },
  {
   "cell_type": "markdown",
   "metadata": {},
   "source": [
    "# Optimized Result Analysis\n",
    "\n",
    "By optimizing this portfolio with the sharpe ratio in mind, the adjusted stock porportions are given. According to the results the most optimal portfolio should have about 0.000% of the portfolio in Facebook, 69.044% in Amazon , 4.352% in Apple, 26.605% in Netflix and 0.000% in Google.\n",
    "\n",
    "Also important to notice that the annual return raised from 33% pre-optimiation to 43.9% post optimization. The volatility increased as well to 29.3%. The sharpe ratio is 1.43 which referring to our table in the beginning means that our best ideal portfolio is only defined as good since it is less than 2.0 (very good). "
   ]
  },
  {
   "cell_type": "markdown",
   "metadata": {},
   "source": [
    "# Further Analysis\n",
    "\n",
    "I want to know how many shares of each stock to buy, and how many funds I will have remaining based off of our optimized results. For this example, let us say I have $20,000 willing to invest."
   ]
  },
  {
   "cell_type": "code",
   "execution_count": 15,
   "metadata": {},
   "outputs": [
    {
     "name": "stdout",
     "output_type": "stream",
     "text": [
      "Number of stocks to buy for each asset: {'AMZN': 6.0, 'AAPL': 2.0, 'NFLX': 11.0}\n",
      "Funds remaining: $18.42\n"
     ]
    }
   ],
   "source": [
    "from pypfopt.discrete_allocation import DiscreteAllocation, get_latest_prices\n",
    "latest_prices = get_latest_prices(df)\n",
    "weights = cleaned_weights \n",
    "da = DiscreteAllocation(weights, latest_prices, total_portfolio_value=20000)\n",
    "allocation, leftover = da.lp_portfolio()\n",
    "print(\"Number of shares for each stock:\", allocation)\n",
    "print(\"Funds remaining: ${:.2f}\".format(leftover))"
   ]
  },
  {
   "cell_type": "markdown",
   "metadata": {},
   "source": [
    "Now we have to complete picture, and have arrived at the final optimized results in order to create our most ideal portfolio based off of 20,000 USD capital investment. Ideally we should buy 6 shares of Amazon, 2 shares of Apple, and 11 shares of Netflix. Following those guidlines, I will have around 18.42 USD left over."
   ]
  },
  {
   "cell_type": "markdown",
   "metadata": {},
   "source": [
    "# Conclusion\n",
    "\n",
    "Thank you for viewing my report, I hope you have learned the best way to optimize a financial portfolio based off of initial capital and stock performances data using the efficient frontier theory and the sharpe ratio calculation.\n",
    "\n",
    "Mohamed Moustafa"
   ]
  },
  {
   "cell_type": "code",
   "execution_count": null,
   "metadata": {},
   "outputs": [],
   "source": []
  }
 ],
 "metadata": {
  "kernelspec": {
   "display_name": "Python 3",
   "language": "python",
   "name": "python3"
  },
  "language_info": {
   "codemirror_mode": {
    "name": "ipython",
    "version": 3
   },
   "file_extension": ".py",
   "mimetype": "text/x-python",
   "name": "python",
   "nbconvert_exporter": "python",
   "pygments_lexer": "ipython3",
   "version": "3.7.3"
  }
 },
 "nbformat": 4,
 "nbformat_minor": 2
}
